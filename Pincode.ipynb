{
 "cells": [
  {
   "cell_type": "code",
   "execution_count": 2,
   "id": "7eed3a68",
   "metadata": {},
   "outputs": [],
   "source": [
    "import pandas as pd\n"
   ]
  },
  {
   "cell_type": "code",
   "execution_count": 3,
   "id": "c627f50f",
   "metadata": {},
   "outputs": [],
   "source": [
    "df = pd.read_excel(r'C:\\Users\\Harshpal Juneja\\OneDrive\\Desktop\\docs_req.xlsx')"
   ]
  },
  {
   "cell_type": "code",
   "execution_count": 4,
   "id": "e9dd64cd",
   "metadata": {},
   "outputs": [
    {
     "data": {
      "text/html": [
       "<div>\n",
       "<style scoped>\n",
       "    .dataframe tbody tr th:only-of-type {\n",
       "        vertical-align: middle;\n",
       "    }\n",
       "\n",
       "    .dataframe tbody tr th {\n",
       "        vertical-align: top;\n",
       "    }\n",
       "\n",
       "    .dataframe thead th {\n",
       "        text-align: right;\n",
       "    }\n",
       "</style>\n",
       "<table border=\"1\" class=\"dataframe\">\n",
       "  <thead>\n",
       "    <tr style=\"text-align: right;\">\n",
       "      <th></th>\n",
       "      <th>Staff ID</th>\n",
       "      <th>Name</th>\n",
       "      <th>Home Pin</th>\n",
       "      <th>Branch Pin</th>\n",
       "    </tr>\n",
       "  </thead>\n",
       "  <tbody>\n",
       "    <tr>\n",
       "      <th>0</th>\n",
       "      <td>214</td>\n",
       "      <td>Ramesh Kumar Yadav</td>\n",
       "      <td>231001</td>\n",
       "      <td>854301</td>\n",
       "    </tr>\n",
       "    <tr>\n",
       "      <th>1</th>\n",
       "      <td>715</td>\n",
       "      <td>Rahul Shukla</td>\n",
       "      <td>228171</td>\n",
       "      <td>246763</td>\n",
       "    </tr>\n",
       "    <tr>\n",
       "      <th>2</th>\n",
       "      <td>1207</td>\n",
       "      <td>Deshraj Singh</td>\n",
       "      <td>246749</td>\n",
       "      <td>302028</td>\n",
       "    </tr>\n",
       "    <tr>\n",
       "      <th>3</th>\n",
       "      <td>1243</td>\n",
       "      <td>Gaurav Sharma</td>\n",
       "      <td>203131</td>\n",
       "      <td>202001</td>\n",
       "    </tr>\n",
       "    <tr>\n",
       "      <th>4</th>\n",
       "      <td>1436</td>\n",
       "      <td>Rahul Kumar</td>\n",
       "      <td>110044</td>\n",
       "      <td>245304</td>\n",
       "    </tr>\n",
       "  </tbody>\n",
       "</table>\n",
       "</div>"
      ],
      "text/plain": [
       "   Staff ID                Name  Home Pin  Branch Pin\n",
       "0       214  Ramesh Kumar Yadav    231001      854301\n",
       "1       715        Rahul Shukla    228171      246763\n",
       "2      1207       Deshraj Singh    246749      302028\n",
       "3      1243       Gaurav Sharma    203131      202001\n",
       "4      1436         Rahul Kumar    110044      245304"
      ]
     },
     "execution_count": 4,
     "metadata": {},
     "output_type": "execute_result"
    }
   ],
   "source": [
    "df.head()"
   ]
  },
  {
   "cell_type": "code",
   "execution_count": 5,
   "id": "8c0218c1",
   "metadata": {},
   "outputs": [
    {
     "name": "stdout",
     "output_type": "stream",
     "text": [
      "<class 'pandas.core.frame.DataFrame'>\n",
      "RangeIndex: 1898 entries, 0 to 1897\n",
      "Data columns (total 4 columns):\n",
      " #   Column      Non-Null Count  Dtype \n",
      "---  ------      --------------  ----- \n",
      " 0   Staff ID    1898 non-null   int64 \n",
      " 1   Name        1898 non-null   object\n",
      " 2   Home Pin    1898 non-null   int64 \n",
      " 3   Branch Pin  1898 non-null   int64 \n",
      "dtypes: int64(3), object(1)\n",
      "memory usage: 59.4+ KB\n"
     ]
    }
   ],
   "source": [
    "df.info()"
   ]
  },
  {
   "cell_type": "code",
   "execution_count": 84,
   "id": "67e7d45f",
   "metadata": {},
   "outputs": [
    {
     "name": "stderr",
     "output_type": "stream",
     "text": [
      "C:\\Users\\Harshpal Juneja\\connection.py:48: UserWarning: pandas only supports SQLAlchemy connectable (engine/connection) or database string URI or sqlite3 DBAPI2 connection. Other DBAPI2 objects are not tested. Please consider using SQLAlchemy.\n",
      "  df = pd.read_sql(sql_query, conn)\n"
     ]
    }
   ],
   "source": [
    "from connection import create_connection, fetch_data_with_query\n",
    "\n",
    "# Call create_connection to get a connection object\n",
    "conn = create_connection()\n",
    "\n",
    "# Define your SQL query\n",
    "custom_sql_query = \"\"\"\n",
    "\n",
    "select s.staffid,staffadd,bc.branchid,bc.latitude, bc.longitude\n",
    "from staff s\n",
    "join branchmaster bc\n",
    "on s.branchid= bc.branchid\n",
    "\n",
    "\"\"\"\n",
    "\n",
    "# Fetch data based on the custom SQL query\n",
    "branch_map = fetch_data_with_query(custom_sql_query)\n",
    "\n",
    "\n"
   ]
  },
  {
   "cell_type": "code",
   "execution_count": 86,
   "id": "f5c619b1",
   "metadata": {},
   "outputs": [
    {
     "data": {
      "text/html": [
       "<div>\n",
       "<style scoped>\n",
       "    .dataframe tbody tr th:only-of-type {\n",
       "        vertical-align: middle;\n",
       "    }\n",
       "\n",
       "    .dataframe tbody tr th {\n",
       "        vertical-align: top;\n",
       "    }\n",
       "\n",
       "    .dataframe thead th {\n",
       "        text-align: right;\n",
       "    }\n",
       "</style>\n",
       "<table border=\"1\" class=\"dataframe\">\n",
       "  <thead>\n",
       "    <tr style=\"text-align: right;\">\n",
       "      <th></th>\n",
       "      <th>staffid</th>\n",
       "      <th>staffadd</th>\n",
       "      <th>branchid</th>\n",
       "      <th>latitude</th>\n",
       "      <th>longitude</th>\n",
       "    </tr>\n",
       "  </thead>\n",
       "  <tbody>\n",
       "    <tr>\n",
       "      <th>0</th>\n",
       "      <td>9</td>\n",
       "      <td>A-2 PURNARWAS BHALSWA COLONY DELHI-42</td>\n",
       "      <td>1</td>\n",
       "      <td>28.768107</td>\n",
       "      <td>77.175602</td>\n",
       "    </tr>\n",
       "    <tr>\n",
       "      <th>1</th>\n",
       "      <td>15</td>\n",
       "      <td>BHALSWA DELHI-42</td>\n",
       "      <td>1</td>\n",
       "      <td>28.768107</td>\n",
       "      <td>77.175602</td>\n",
       "    </tr>\n",
       "    <tr>\n",
       "      <th>2</th>\n",
       "      <td>17</td>\n",
       "      <td>BHALSWA</td>\n",
       "      <td>1</td>\n",
       "      <td>28.768107</td>\n",
       "      <td>77.175602</td>\n",
       "    </tr>\n",
       "    <tr>\n",
       "      <th>3</th>\n",
       "      <td>18</td>\n",
       "      <td>C-5/270 J.J.COLONY BHALSWA DELHI-42</td>\n",
       "      <td>1</td>\n",
       "      <td>28.768107</td>\n",
       "      <td>77.175602</td>\n",
       "    </tr>\n",
       "    <tr>\n",
       "      <th>4</th>\n",
       "      <td>29</td>\n",
       "      <td>A-2/839 J.J.COLONY BHALSWA DAIRY NEW DELHI-42</td>\n",
       "      <td>1</td>\n",
       "      <td>28.768107</td>\n",
       "      <td>77.175602</td>\n",
       "    </tr>\n",
       "  </tbody>\n",
       "</table>\n",
       "</div>"
      ],
      "text/plain": [
       "   staffid                                       staffadd  branchid  \\\n",
       "0        9          A-2 PURNARWAS BHALSWA COLONY DELHI-42         1   \n",
       "1       15                               BHALSWA DELHI-42         1   \n",
       "2       17                                        BHALSWA         1   \n",
       "3       18            C-5/270 J.J.COLONY BHALSWA DELHI-42         1   \n",
       "4       29  A-2/839 J.J.COLONY BHALSWA DAIRY NEW DELHI-42         1   \n",
       "\n",
       "    latitude  longitude  \n",
       "0  28.768107  77.175602  \n",
       "1  28.768107  77.175602  \n",
       "2  28.768107  77.175602  \n",
       "3  28.768107  77.175602  \n",
       "4  28.768107  77.175602  "
      ]
     },
     "execution_count": 86,
     "metadata": {},
     "output_type": "execute_result"
    }
   ],
   "source": [
    "branch_map.head()"
   ]
  },
  {
   "cell_type": "code",
   "execution_count": 2,
   "id": "59776dfa",
   "metadata": {},
   "outputs": [],
   "source": [
    "branch_map.rename(columns={'latitude': 'branch_latitude', 'longitude': 'branch_longitude'}, inplace=True)\n",
    "\n"
   ]
  },
  {
   "cell_type": "code",
   "execution_count": 88,
   "id": "4a0bd34e",
   "metadata": {},
   "outputs": [
    {
     "data": {
      "text/html": [
       "<div>\n",
       "<style scoped>\n",
       "    .dataframe tbody tr th:only-of-type {\n",
       "        vertical-align: middle;\n",
       "    }\n",
       "\n",
       "    .dataframe tbody tr th {\n",
       "        vertical-align: top;\n",
       "    }\n",
       "\n",
       "    .dataframe thead th {\n",
       "        text-align: right;\n",
       "    }\n",
       "</style>\n",
       "<table border=\"1\" class=\"dataframe\">\n",
       "  <thead>\n",
       "    <tr style=\"text-align: right;\">\n",
       "      <th></th>\n",
       "      <th>staffid</th>\n",
       "      <th>staffadd</th>\n",
       "      <th>branchid</th>\n",
       "      <th>branch_latitude</th>\n",
       "      <th>branch_longitude</th>\n",
       "    </tr>\n",
       "  </thead>\n",
       "  <tbody>\n",
       "    <tr>\n",
       "      <th>0</th>\n",
       "      <td>9</td>\n",
       "      <td>A-2 PURNARWAS BHALSWA COLONY DELHI-42</td>\n",
       "      <td>1</td>\n",
       "      <td>28.768107</td>\n",
       "      <td>77.175602</td>\n",
       "    </tr>\n",
       "    <tr>\n",
       "      <th>1</th>\n",
       "      <td>15</td>\n",
       "      <td>BHALSWA DELHI-42</td>\n",
       "      <td>1</td>\n",
       "      <td>28.768107</td>\n",
       "      <td>77.175602</td>\n",
       "    </tr>\n",
       "    <tr>\n",
       "      <th>2</th>\n",
       "      <td>17</td>\n",
       "      <td>BHALSWA</td>\n",
       "      <td>1</td>\n",
       "      <td>28.768107</td>\n",
       "      <td>77.175602</td>\n",
       "    </tr>\n",
       "    <tr>\n",
       "      <th>3</th>\n",
       "      <td>18</td>\n",
       "      <td>C-5/270 J.J.COLONY BHALSWA DELHI-42</td>\n",
       "      <td>1</td>\n",
       "      <td>28.768107</td>\n",
       "      <td>77.175602</td>\n",
       "    </tr>\n",
       "    <tr>\n",
       "      <th>4</th>\n",
       "      <td>29</td>\n",
       "      <td>A-2/839 J.J.COLONY BHALSWA DAIRY NEW DELHI-42</td>\n",
       "      <td>1</td>\n",
       "      <td>28.768107</td>\n",
       "      <td>77.175602</td>\n",
       "    </tr>\n",
       "  </tbody>\n",
       "</table>\n",
       "</div>"
      ],
      "text/plain": [
       "   staffid                                       staffadd  branchid  \\\n",
       "0        9          A-2 PURNARWAS BHALSWA COLONY DELHI-42         1   \n",
       "1       15                               BHALSWA DELHI-42         1   \n",
       "2       17                                        BHALSWA         1   \n",
       "3       18            C-5/270 J.J.COLONY BHALSWA DELHI-42         1   \n",
       "4       29  A-2/839 J.J.COLONY BHALSWA DAIRY NEW DELHI-42         1   \n",
       "\n",
       "   branch_latitude  branch_longitude  \n",
       "0        28.768107         77.175602  \n",
       "1        28.768107         77.175602  \n",
       "2        28.768107         77.175602  \n",
       "3        28.768107         77.175602  \n",
       "4        28.768107         77.175602  "
      ]
     },
     "execution_count": 88,
     "metadata": {},
     "output_type": "execute_result"
    }
   ],
   "source": [
    "branch_map.head()"
   ]
  },
  {
   "cell_type": "code",
   "execution_count": 89,
   "id": "91e85609",
   "metadata": {},
   "outputs": [],
   "source": [
    "df = pd.merge(df,branch_map,left_on='Staff ID',right_on='staffid',how='left')"
   ]
  },
  {
   "cell_type": "code",
   "execution_count": 90,
   "id": "97aa031f",
   "metadata": {},
   "outputs": [
    {
     "data": {
      "text/html": [
       "<div>\n",
       "<style scoped>\n",
       "    .dataframe tbody tr th:only-of-type {\n",
       "        vertical-align: middle;\n",
       "    }\n",
       "\n",
       "    .dataframe tbody tr th {\n",
       "        vertical-align: top;\n",
       "    }\n",
       "\n",
       "    .dataframe thead th {\n",
       "        text-align: right;\n",
       "    }\n",
       "</style>\n",
       "<table border=\"1\" class=\"dataframe\">\n",
       "  <thead>\n",
       "    <tr style=\"text-align: right;\">\n",
       "      <th></th>\n",
       "      <th>Staff ID</th>\n",
       "      <th>Name</th>\n",
       "      <th>Home Pin</th>\n",
       "      <th>Branch Pin</th>\n",
       "      <th>staffid</th>\n",
       "      <th>staffadd</th>\n",
       "      <th>branchid</th>\n",
       "      <th>branch_latitude</th>\n",
       "      <th>branch_longitude</th>\n",
       "    </tr>\n",
       "  </thead>\n",
       "  <tbody>\n",
       "    <tr>\n",
       "      <th>0</th>\n",
       "      <td>214</td>\n",
       "      <td>Ramesh Kumar Yadav</td>\n",
       "      <td>231001</td>\n",
       "      <td>854301</td>\n",
       "      <td>214</td>\n",
       "      <td>VILLAGE NEWARHIA, POST KATHANAI, DISTRICT MIRZ...</td>\n",
       "      <td>383</td>\n",
       "      <td>25.766282</td>\n",
       "      <td>87.482993</td>\n",
       "    </tr>\n",
       "    <tr>\n",
       "      <th>1</th>\n",
       "      <td>715</td>\n",
       "      <td>Rahul Shukla</td>\n",
       "      <td>228171</td>\n",
       "      <td>246763</td>\n",
       "      <td>715</td>\n",
       "      <td>VILL - MARUI KRISHNDASPUR,POST -PAUDHAN RAMPUR...</td>\n",
       "      <td>34</td>\n",
       "      <td>29.603513</td>\n",
       "      <td>78.341156</td>\n",
       "    </tr>\n",
       "    <tr>\n",
       "      <th>2</th>\n",
       "      <td>1207</td>\n",
       "      <td>Deshraj Singh</td>\n",
       "      <td>246749</td>\n",
       "      <td>302028</td>\n",
       "      <td>1207</td>\n",
       "      <td>VILL: MOHD AMI KHANPUR NAYA GAON, POST : BIJNO...</td>\n",
       "      <td>466</td>\n",
       "      <td>26.999641</td>\n",
       "      <td>75.881002</td>\n",
       "    </tr>\n",
       "    <tr>\n",
       "      <th>3</th>\n",
       "      <td>1243</td>\n",
       "      <td>Gaurav Sharma</td>\n",
       "      <td>203131</td>\n",
       "      <td>202001</td>\n",
       "      <td>1243</td>\n",
       "      <td>H.NO.49 NAVALPURA, KALRALA KHURJADISS: BULANDS...</td>\n",
       "      <td>17</td>\n",
       "      <td>27.889674</td>\n",
       "      <td>78.046579</td>\n",
       "    </tr>\n",
       "    <tr>\n",
       "      <th>4</th>\n",
       "      <td>1436</td>\n",
       "      <td>Rahul Kumar</td>\n",
       "      <td>110044</td>\n",
       "      <td>245304</td>\n",
       "      <td>1436</td>\n",
       "      <td>HOUSE NO.440,GALI NO.13 LAKHPAT COLONY PART-1 ...</td>\n",
       "      <td>72</td>\n",
       "      <td>28.705630</td>\n",
       "      <td>77.652107</td>\n",
       "    </tr>\n",
       "  </tbody>\n",
       "</table>\n",
       "</div>"
      ],
      "text/plain": [
       "   Staff ID                Name  Home Pin  Branch Pin  staffid  \\\n",
       "0       214  Ramesh Kumar Yadav    231001      854301      214   \n",
       "1       715        Rahul Shukla    228171      246763      715   \n",
       "2      1207       Deshraj Singh    246749      302028     1207   \n",
       "3      1243       Gaurav Sharma    203131      202001     1243   \n",
       "4      1436         Rahul Kumar    110044      245304     1436   \n",
       "\n",
       "                                            staffadd  branchid  \\\n",
       "0  VILLAGE NEWARHIA, POST KATHANAI, DISTRICT MIRZ...       383   \n",
       "1  VILL - MARUI KRISHNDASPUR,POST -PAUDHAN RAMPUR...        34   \n",
       "2  VILL: MOHD AMI KHANPUR NAYA GAON, POST : BIJNO...       466   \n",
       "3  H.NO.49 NAVALPURA, KALRALA KHURJADISS: BULANDS...        17   \n",
       "4  HOUSE NO.440,GALI NO.13 LAKHPAT COLONY PART-1 ...        72   \n",
       "\n",
       "   branch_latitude  branch_longitude  \n",
       "0        25.766282         87.482993  \n",
       "1        29.603513         78.341156  \n",
       "2        26.999641         75.881002  \n",
       "3        27.889674         78.046579  \n",
       "4        28.705630         77.652107  "
      ]
     },
     "execution_count": 90,
     "metadata": {},
     "output_type": "execute_result"
    }
   ],
   "source": [
    "df.head()"
   ]
  },
  {
   "cell_type": "code",
   "execution_count": 91,
   "id": "6f584e6d",
   "metadata": {},
   "outputs": [],
   "source": [
    "df.drop(['staffid','branchid','Name'],axis=1,inplace=True)"
   ]
  },
  {
   "cell_type": "code",
   "execution_count": 92,
   "id": "204419ff",
   "metadata": {},
   "outputs": [
    {
     "data": {
      "text/html": [
       "<div>\n",
       "<style scoped>\n",
       "    .dataframe tbody tr th:only-of-type {\n",
       "        vertical-align: middle;\n",
       "    }\n",
       "\n",
       "    .dataframe tbody tr th {\n",
       "        vertical-align: top;\n",
       "    }\n",
       "\n",
       "    .dataframe thead th {\n",
       "        text-align: right;\n",
       "    }\n",
       "</style>\n",
       "<table border=\"1\" class=\"dataframe\">\n",
       "  <thead>\n",
       "    <tr style=\"text-align: right;\">\n",
       "      <th></th>\n",
       "      <th>Staff ID</th>\n",
       "      <th>Home Pin</th>\n",
       "      <th>Branch Pin</th>\n",
       "      <th>staffadd</th>\n",
       "      <th>branch_latitude</th>\n",
       "      <th>branch_longitude</th>\n",
       "    </tr>\n",
       "  </thead>\n",
       "  <tbody>\n",
       "    <tr>\n",
       "      <th>682</th>\n",
       "      <td>20751</td>\n",
       "      <td>246738</td>\n",
       "      <td>244231</td>\n",
       "      <td>Gajipur, Khaspura, Chandpur, Bijnor, Uttar Pra...</td>\n",
       "      <td>28.969017</td>\n",
       "      <td>78.252676</td>\n",
       "    </tr>\n",
       "  </tbody>\n",
       "</table>\n",
       "</div>"
      ],
      "text/plain": [
       "     Staff ID  Home Pin  Branch Pin  \\\n",
       "682     20751    246738      244231   \n",
       "\n",
       "                                              staffadd  branch_latitude  \\\n",
       "682  Gajipur, Khaspura, Chandpur, Bijnor, Uttar Pra...        28.969017   \n",
       "\n",
       "     branch_longitude  \n",
       "682         78.252676  "
      ]
     },
     "execution_count": 92,
     "metadata": {},
     "output_type": "execute_result"
    }
   ],
   "source": [
    "df[df['Staff ID']== 20751]"
   ]
  },
  {
   "cell_type": "code",
   "execution_count": 93,
   "id": "aac17b59",
   "metadata": {},
   "outputs": [
    {
     "name": "stdout",
     "output_type": "stream",
     "text": [
      "<class 'pandas.core.frame.DataFrame'>\n",
      "RangeIndex: 1898 entries, 0 to 1897\n",
      "Data columns (total 6 columns):\n",
      " #   Column            Non-Null Count  Dtype  \n",
      "---  ------            --------------  -----  \n",
      " 0   Staff ID          1898 non-null   int64  \n",
      " 1   Home Pin          1898 non-null   int64  \n",
      " 2   Branch Pin        1898 non-null   int64  \n",
      " 3   staffadd          1898 non-null   object \n",
      " 4   branch_latitude   1898 non-null   float64\n",
      " 5   branch_longitude  1898 non-null   float64\n",
      "dtypes: float64(2), int64(3), object(1)\n",
      "memory usage: 89.1+ KB\n"
     ]
    }
   ],
   "source": [
    "df.info()"
   ]
  },
  {
   "cell_type": "code",
   "execution_count": 130,
   "id": "df755fab",
   "metadata": {},
   "outputs": [],
   "source": [
    "import requests\n",
    "import pandas as pd\n",
    "\n",
    "def get_lat_long_from_google_api(postal_code, api_key):\n",
    "    url = f\"https://maps.googleapis.com/maps/api/geocode/json?address={postal_code}&key={api_key}\"\n",
    "    response = requests.get(url)\n",
    "    if response.status_code == 200:\n",
    "        data = response.json()\n",
    "        if data['status'] == 'OK':\n",
    "            lat = data['results'][0]['geometry']['location']['lat']\n",
    "            lng = data['results'][0]['geometry']['location']['lng']\n",
    "            return lat, lng\n",
    "    return None, None\n",
    "\n",
    "# Your Google Maps API Key\n",
    "google_api_key = ''\n",
    "\n",
    "\n",
    "\n",
    "# Define lists to store latitude and longitude values\n",
    "latitudes = []\n",
    "longitudes = []\n",
    "\n",
    "# Loop through each postal code and get latitude and longitude\n",
    "for postal_code in df['Home Pin']:\n",
    "    lat, lon = get_lat_long_from_google_api(postal_code, google_api_key)\n",
    "    latitudes.append(lat)\n",
    "    longitudes.append(lon)\n",
    "\n",
    "# Add latitude and longitude columns to the DataFrame\n",
    "df['Home_Pin_Latitude'] = latitudes\n",
    "df['Home_Pin_Longitude'] = longitudes\n",
    "\n"
   ]
  },
  {
   "cell_type": "code",
   "execution_count": 94,
   "id": "10f67eaa",
   "metadata": {},
   "outputs": [],
   "source": [
    "# from time import sleep\n",
    "import time\n",
    "api_key = ''\n"
   ]
  },
  {
   "cell_type": "code",
   "execution_count": null,
   "id": "e888392e",
   "metadata": {},
   "outputs": [],
   "source": []
  },
  {
   "cell_type": "code",
   "execution_count": 3,
   "id": "29592c6e",
   "metadata": {},
   "outputs": [],
   "source": [
    "# Distance Calculation"
   ]
  },
  {
   "cell_type": "code",
   "execution_count": 20,
   "id": "68694ce8",
   "metadata": {},
   "outputs": [],
   "source": [
    "from math import radians, sin, cos, sqrt, atan2\n",
    "import pandas as pd\n",
    "\n",
    "\n",
    "def haversine(lat1, lon1, lat2, lon2):\n",
    "    # Convert latitude and longitude from degrees to radians\n",
    "    lat1, lon1, lat2, lon2 = map(radians, [lat1, lon1, lat2, lon2])\n",
    "\n",
    "    # Haversine formula\n",
    "    dlon = lon2 - lon1\n",
    "    dlat = lat2 - lat1\n",
    "    a = sin(dlat / 2) ** 2 + cos(lat1) * cos(lat2) * sin(dlon / 2) ** 2\n",
    "    c = 2 * atan2(sqrt(a), sqrt(1 - a))\n",
    "    radius_of_earth = 6371  # Radius of the Earth in kilometers\n",
    "    distance = radius_of_earth * c\n",
    "\n",
    "    return distance\n",
    "\n",
    "# Calculate distances for each row in the DataFrame\n",
    "distances = []\n",
    "for index, row in df.iterrows():\n",
    "    home_lat = row['Home Latitude']\n",
    "    home_lon = row['Home Longitude']\n",
    "    branch_lat = row['Branch Latitude']\n",
    "    branch_lon = row['Branch Longitude']\n",
    "    distance_km = haversine(home_lat, home_lon, branch_lat, branch_lon)\n",
    "    distances.append(distance_km)\n",
    "\n",
    "# Add the distances as a new column to the DataFrame\n",
    "df['Distance (km)'] = distances"
   ]
  },
  {
   "cell_type": "code",
   "execution_count": 114,
   "id": "c62d3f32",
   "metadata": {
    "scrolled": true
   },
   "outputs": [
    {
     "data": {
      "text/plain": [
       "Staff ID             0\n",
       "Home Pin             0\n",
       "Branch Pin           0\n",
       "staffadd             0\n",
       "home_latitude        3\n",
       "home_longitude       3\n",
       "branch_latitude     15\n",
       "branch_longitude    15\n",
       "Distance (km)       16\n",
       "dtype: int64"
      ]
     },
     "execution_count": 114,
     "metadata": {},
     "output_type": "execute_result"
    }
   ],
   "source": [
    "df.isnull().sum()"
   ]
  },
  {
   "cell_type": "code",
   "execution_count": 144,
   "id": "06eb4c3d",
   "metadata": {},
   "outputs": [],
   "source": [
    "# df.to_excel(r'C:\\Users\\Harshpal Juneja\\OneDrive\\Desktop\\distance_between_pincodes.xlsx',index=False)"
   ]
  },
  {
   "cell_type": "code",
   "execution_count": 28,
   "id": "e77a3701",
   "metadata": {},
   "outputs": [],
   "source": [
    "filtered_df = df[~df[['Distance (km)', 'Branch Longitude']].isnull().any(axis=1)]\n"
   ]
  },
  {
   "cell_type": "code",
   "execution_count": 29,
   "id": "6a81f17c",
   "metadata": {},
   "outputs": [
    {
     "data": {
      "text/plain": [
       "(1715, 9)"
      ]
     },
     "execution_count": 29,
     "metadata": {},
     "output_type": "execute_result"
    }
   ],
   "source": [
    "filtered_df.shape"
   ]
  },
  {
   "cell_type": "code",
   "execution_count": null,
   "id": "cc31e8cf",
   "metadata": {},
   "outputs": [],
   "source": []
  },
  {
   "cell_type": "code",
   "execution_count": 70,
   "id": "b1c79b71",
   "metadata": {},
   "outputs": [
    {
     "data": {
      "text/plain": [
       "Staff ID             0\n",
       "Home Pin             0\n",
       "Branch Pin           0\n",
       "staffadd             0\n",
       "branch_latitude      0\n",
       "branch_longitude     0\n",
       "home_latitude       10\n",
       "home_longitude      10\n",
       "Distance (km)       10\n",
       "dtype: int64"
      ]
     },
     "execution_count": 70,
     "metadata": {},
     "output_type": "execute_result"
    }
   ],
   "source": [
    "df.isnull().sum()"
   ]
  },
  {
   "cell_type": "code",
   "execution_count": 117,
   "id": "b1e9a86f",
   "metadata": {},
   "outputs": [],
   "source": [
    "# df.to_excel(r'C:\\Users\\Harshpal Juneja\\OneDrive\\Desktop\\distance_pincode_wise.xlsx')"
   ]
  },
  {
   "cell_type": "code",
   "execution_count": null,
   "id": "b0929436",
   "metadata": {},
   "outputs": [],
   "source": []
  }
 ],
 "metadata": {
  "kernelspec": {
   "display_name": "Python 3",
   "language": "python",
   "name": "python3"
  },
  "language_info": {
   "codemirror_mode": {
    "name": "ipython",
    "version": 3
   },
   "file_extension": ".py",
   "mimetype": "text/x-python",
   "name": "python",
   "nbconvert_exporter": "python",
   "pygments_lexer": "ipython3",
   "version": "3.11.5"
  },
  "toc": {
   "base_numbering": 1,
   "nav_menu": {},
   "number_sections": true,
   "sideBar": true,
   "skip_h1_title": false,
   "title_cell": "Table of Contents",
   "title_sidebar": "Contents",
   "toc_cell": false,
   "toc_position": {},
   "toc_section_display": true,
   "toc_window_display": false
  }
 },
 "nbformat": 4,
 "nbformat_minor": 5
}
